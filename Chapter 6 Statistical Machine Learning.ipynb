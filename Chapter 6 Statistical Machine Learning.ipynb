{
 "cells": [
  {
   "cell_type": "code",
   "execution_count": 1,
   "metadata": {},
   "outputs": [],
   "source": [
    "import numpy as np\n",
    "import pandas as pd\n",
    "\n",
    "from sklearn.neighbors import KNeighborsClassifier\n",
    "from sklearn.preprocessing import StandardScaler\n",
    "\n",
    "import matplotlib.pyplot as plt\n",
    "import seaborn as sns\n",
    "sns.set_theme() # I like seaborn default theme\n",
    "\n",
    "import warnings\n",
    "warnings.filterwarnings('ignore')\n",
    "\n",
    "input_path = './data/'\n",
    "loan200 = pd.read_csv(input_path + 'loan200.csv')\n",
    "loan_data = pd.read_csv(input_path + 'loan_data.csv.gz')"
   ]
  },
  {
   "cell_type": "markdown",
   "metadata": {},
   "source": [
    "# 6 Statistical Machine Learning\n",
    "\n",
    "## 6.1 K-Nearest Neighbors\n",
    "\n",
    "The idea behind K-Nearest Neighbors (KNN) is very simple. For each record to be classified or predicted:\n",
    "1. Find K records that have similar features (i.e., similar predictor values).\n",
    "2. For classification, find out what the majority class is among those similar records and assign that class to the new record.\n",
    "3. For prediction (also called KNN regression), find the average among those similar records, and predict that average for the new record.\n",
    "\n",
    "#### <center>Key Terms for K-Nearest Neighbors</center>\n",
    "- ***Neighbor***  \n",
    "A record that has similar predictor values to another record.\n",
    "- ***Distance metrics***  \n",
    "Measures that sum up in a single number how far one record is from another.\n",
    "- ***Standardization***  \n",
    "Subtract the mean and divide by the standard deviation.<br>  \n",
    "*Synonym*\n",
    "    - Normalization\n",
    "- ***z-score***  \n",
    "The value that results after standardization.\n",
    "- ***K***  \n",
    "The number of neighbors considered in the nearest neighbor calculation."
   ]
  },
  {
   "cell_type": "markdown",
   "metadata": {},
   "source": [
    "### Example: Predicting Loan Default"
   ]
  },
  {
   "cell_type": "code",
   "execution_count": 2,
   "metadata": {},
   "outputs": [
    {
     "data": {
      "text/plain": [
       "array(['paid off'], dtype=object)"
      ]
     },
     "execution_count": 2,
     "metadata": {},
     "output_type": "execute_result"
    }
   ],
   "source": [
    "predictors = ['payment_inc_ratio', 'dti']\n",
    "outcome = 'outcome'\n",
    "\n",
    "newloan = loan200.loc[0:0, predictors]\n",
    "X = loan200.loc[1:, predictors]\n",
    "y = loan200.loc[1:, outcome]\n",
    "\n",
    "knn = KNeighborsClassifier(n_neighbors=20)\n",
    "knn.fit(X, y)\n",
    "knn.predict(newloan)"
   ]
  },
  {
   "cell_type": "markdown",
   "metadata": {},
   "source": [
    "### Distance Metrics\n",
    "\n",
    "Similarity (nearness) is determined using a *distance metric*, which is a function that measures how far two records $(x_1,x_2,\\cdots ,x_p)$ and $(u_1,u_2,\\cdots ,u_p)$ are from one another.\n",
    "\n",
    "**Euclidean distance**:\n",
    "$$\\sqrt{(x_1-u_1)^2+(x_2-u_2)^2+\\cdots +(x_p-u_p)^2}$$\n",
    "\n",
    "**Manhattan distance**:\n",
    "$$|x_1-u_1|+|x_2-u_2|+\\cdots +|x_p-u_p|$$"
   ]
  },
  {
   "cell_type": "markdown",
   "metadata": {},
   "source": [
    "### Standardization (Normalization, z-Scores)\n",
    "\n",
    "Standardization puts all variables on the same scale.\n",
    "\n",
    "For KNN and a few other procedures (e.g., principal components analysis and clustering), it is essential to consider standardizing the data prior to applying the procedure."
   ]
  },
  {
   "cell_type": "code",
   "execution_count": 3,
   "metadata": {},
   "outputs": [
    {
     "data": {
      "text/html": [
       "<div>\n",
       "<style scoped>\n",
       "    .dataframe tbody tr th:only-of-type {\n",
       "        vertical-align: middle;\n",
       "    }\n",
       "\n",
       "    .dataframe tbody tr th {\n",
       "        vertical-align: top;\n",
       "    }\n",
       "\n",
       "    .dataframe thead th {\n",
       "        text-align: right;\n",
       "    }\n",
       "</style>\n",
       "<table border=\"1\" class=\"dataframe\">\n",
       "  <thead>\n",
       "    <tr style=\"text-align: right;\">\n",
       "      <th></th>\n",
       "      <th>payment_inc_ratio</th>\n",
       "      <th>dti</th>\n",
       "      <th>revol_bal</th>\n",
       "      <th>revol_util</th>\n",
       "    </tr>\n",
       "  </thead>\n",
       "  <tbody>\n",
       "    <tr>\n",
       "      <th>35536</th>\n",
       "      <td>1.47212</td>\n",
       "      <td>1.46</td>\n",
       "      <td>1686</td>\n",
       "      <td>10.0</td>\n",
       "    </tr>\n",
       "    <tr>\n",
       "      <th>33651</th>\n",
       "      <td>3.38178</td>\n",
       "      <td>6.37</td>\n",
       "      <td>1688</td>\n",
       "      <td>8.4</td>\n",
       "    </tr>\n",
       "    <tr>\n",
       "      <th>25863</th>\n",
       "      <td>2.36303</td>\n",
       "      <td>1.39</td>\n",
       "      <td>1691</td>\n",
       "      <td>3.5</td>\n",
       "    </tr>\n",
       "    <tr>\n",
       "      <th>42953</th>\n",
       "      <td>1.28160</td>\n",
       "      <td>7.14</td>\n",
       "      <td>1684</td>\n",
       "      <td>3.9</td>\n",
       "    </tr>\n",
       "    <tr>\n",
       "      <th>43599</th>\n",
       "      <td>4.12244</td>\n",
       "      <td>8.98</td>\n",
       "      <td>1684</td>\n",
       "      <td>7.2</td>\n",
       "    </tr>\n",
       "  </tbody>\n",
       "</table>\n",
       "</div>"
      ],
      "text/plain": [
       "       payment_inc_ratio   dti  revol_bal  revol_util\n",
       "35536            1.47212  1.46       1686        10.0\n",
       "33651            3.38178  6.37       1688         8.4\n",
       "25863            2.36303  1.39       1691         3.5\n",
       "42953            1.28160  7.14       1684         3.9\n",
       "43599            4.12244  8.98       1684         7.2"
      ]
     },
     "execution_count": 3,
     "metadata": {},
     "output_type": "execute_result"
    }
   ],
   "source": [
    "# show neighbors without variable standardization\n",
    "predictors = ['payment_inc_ratio', 'dti', 'revol_bal', 'revol_util']\n",
    "outcome = 'outcome'\n",
    "\n",
    "newloan = loan_data.loc[0:0, predictors]\n",
    "X = loan_data.loc[1:, predictors]\n",
    "y = loan_data.loc[1:, outcome]\n",
    "\n",
    "knn = KNeighborsClassifier(n_neighbors=5)\n",
    "knn.fit(X, y)\n",
    "\n",
    "nbrs = knn.kneighbors(newloan)\n",
    "X.iloc[nbrs[1][0], :]"
   ]
  },
  {
   "cell_type": "markdown",
   "metadata": {},
   "source": [
    "The value of `revol_bal` in these neighbors is very close to its value in the new record, but the other predictor variables are all over the map and essentially play no role in determining neighbors."
   ]
  },
  {
   "cell_type": "code",
   "execution_count": 4,
   "metadata": {},
   "outputs": [
    {
     "data": {
      "text/html": [
       "<div>\n",
       "<style scoped>\n",
       "    .dataframe tbody tr th:only-of-type {\n",
       "        vertical-align: middle;\n",
       "    }\n",
       "\n",
       "    .dataframe tbody tr th {\n",
       "        vertical-align: top;\n",
       "    }\n",
       "\n",
       "    .dataframe thead th {\n",
       "        text-align: right;\n",
       "    }\n",
       "</style>\n",
       "<table border=\"1\" class=\"dataframe\">\n",
       "  <thead>\n",
       "    <tr style=\"text-align: right;\">\n",
       "      <th></th>\n",
       "      <th>payment_inc_ratio</th>\n",
       "      <th>dti</th>\n",
       "      <th>revol_bal</th>\n",
       "      <th>revol_util</th>\n",
       "    </tr>\n",
       "  </thead>\n",
       "  <tbody>\n",
       "    <tr>\n",
       "      <th>2080</th>\n",
       "      <td>2.61091</td>\n",
       "      <td>1.03</td>\n",
       "      <td>1218</td>\n",
       "      <td>9.7</td>\n",
       "    </tr>\n",
       "    <tr>\n",
       "      <th>1438</th>\n",
       "      <td>2.34343</td>\n",
       "      <td>0.51</td>\n",
       "      <td>278</td>\n",
       "      <td>9.9</td>\n",
       "    </tr>\n",
       "    <tr>\n",
       "      <th>30215</th>\n",
       "      <td>2.71200</td>\n",
       "      <td>1.34</td>\n",
       "      <td>1075</td>\n",
       "      <td>8.5</td>\n",
       "    </tr>\n",
       "    <tr>\n",
       "      <th>28542</th>\n",
       "      <td>2.39760</td>\n",
       "      <td>0.74</td>\n",
       "      <td>2917</td>\n",
       "      <td>7.4</td>\n",
       "    </tr>\n",
       "    <tr>\n",
       "      <th>44737</th>\n",
       "      <td>2.34309</td>\n",
       "      <td>1.37</td>\n",
       "      <td>488</td>\n",
       "      <td>7.2</td>\n",
       "    </tr>\n",
       "  </tbody>\n",
       "</table>\n",
       "</div>"
      ],
      "text/plain": [
       "       payment_inc_ratio   dti  revol_bal  revol_util\n",
       "2080             2.61091  1.03       1218         9.7\n",
       "1438             2.34343  0.51        278         9.9\n",
       "30215            2.71200  1.34       1075         8.5\n",
       "28542            2.39760  0.74       2917         7.4\n",
       "44737            2.34309  1.37        488         7.2"
      ]
     },
     "execution_count": 4,
     "metadata": {},
     "output_type": "execute_result"
    }
   ],
   "source": [
    "# show neighbors with variable standardization\n",
    "newloan = loan_data.loc[0:0, predictors]\n",
    "X = loan_data.loc[1:, predictors]\n",
    "y = loan_data.loc[1:, outcome]\n",
    "\n",
    "scaler = StandardScaler()\n",
    "scaler.fit(X)\n",
    "\n",
    "X_std = scaler.transform(X)\n",
    "newloan_std = scaler.transform(newloan)\n",
    "\n",
    "knn = KNeighborsClassifier(n_neighbors=5)\n",
    "knn.fit(X_std, y)\n",
    "\n",
    "nbrs = knn.kneighbors(newloan_std)\n",
    "X.iloc[nbrs[1][0], :]"
   ]
  },
  {
   "cell_type": "markdown",
   "metadata": {},
   "source": [
    "The five nearest neighbors are much more alike in all the variables, providing a more sensible result. Note that the results are displayed on the original scale, but KNN was applied to the scaled data and the new loan to be predicted.\n",
    "\n",
    "**NOTE**  \n",
    "Using the z-score is just one way to rescale variables. Instead of the mean, a more robust estimate of location could be used, such as the median. Likewise, a different estimate of scale such as the inter quartile range could be used instead of the standard deviation. Sometimes, variables are “squashed” into the 0–1 range. It’s also important to realize that scaling each variable to have unit variance is somewhat arbitrary. This implies that each variable is thought to have the same importance in predictive power. If you have subjective knowledge that some variables are more important than others, then these could be scaled up. For example, with the loan data, it is reasonable to expect that the payment-to-income ratio is very important."
   ]
  },
  {
   "cell_type": "markdown",
   "metadata": {},
   "source": [
    "### Choosing K\n",
    "\n",
    "If *K* is too low, we may be overfitting. If *K* is too high, we may oversmooth the data and miss out on KNN's ability to capture the local structure in the data.\n",
    "\n",
    "The *K* that best balances between overfitting and oversmoothing is typically determined by accuracy metrics and, in particular, accuracy with holdout or validation data."
   ]
  },
  {
   "cell_type": "markdown",
   "metadata": {},
   "source": [
    "### KNN as a Feature Engine\n",
    "\n",
    "KNN gained its popularity due to its simplicity and intuitive nature. In terms of performance, KNN by itself is usually not competitive with more sophisticated classification techniques. In practical model fitting, however, KNN can be used to add “local knowledge” in a staged process with other classification techniques."
   ]
  },
  {
   "cell_type": "markdown",
   "metadata": {},
   "source": [
    "## 6.2 Tree Models\n",
    "\n",
    "#### <center>Key Terms for Trees</center>\n",
    "- ***Recursive partitioning***  \n",
    "Repeatedly dividing and subdividing the data with the goal of making the outcomes in each final subdivision as homogeneous as possible.\n",
    "- ***Split value***  \n",
    "A predictor value that divides the records into those where that predictor is less than the split value, and those where it is more.\n",
    "- ***Node***  \n",
    "In the decision tree, or in the set of corresponding branching rules, a node is the graphical or rule representation of a split value.\n",
    "- ***Leaf***  \n",
    "The end of a set of if-then rules, or branches of a tree—the rules that bring you to that leaf provide one of the classification rules for any record in a tree.\n",
    "- ***Loss***  \n",
    "The number of misclassifications at a stage in the splitting process; the more losses, the more impurity.\n",
    "- ***Impurity***  \n",
    "The extent to which a mix of classes is found in a subpartition of the data (the more mixed, the more impure).<br>  \n",
    "    - *Synonym*\n",
    "        - Heterogeneity\n",
    "    - *Antonyms*\n",
    "        - Homogeneity, purity\n",
    "- ***Pruning***  \n",
    "The process of taking a fully grown tree and progressively cutting its branches back to reduce overfitting."
   ]
  },
  {
   "cell_type": "markdown",
   "metadata": {},
   "source": [
    "### Measuring Homogeneity or Impurity\n",
    "\n",
    "$p$ is the proportion of misclassified records within a partion, which ranges from 0 (perfect) to 0.5 (purely random guessing).\n",
    "\n",
    "**Gini impurity**: $2p(1-p)$\n",
    "\n",
    "**Entropy**: $-p\\log_2(p) - (1-p) \\log_2(1-p)$"
   ]
  },
  {
   "cell_type": "code",
   "execution_count": 21,
   "metadata": {},
   "outputs": [
    {
     "data": {
      "image/png": "[encoded data removed]",
      "text/plain": [
       "<Figure size 640x480 with 1 Axes>"
      ]
     },
     "metadata": {},
     "output_type": "display_data"
    }
   ],
   "source": [
    "x = np.linspace(0, 0.5, 1000)\n",
    "accuracy = 2*x\n",
    "gini = 2*x*(1-x)\n",
    "entropy = -x*np.log2(x)-(1-x)*np.log2(1-x)\n",
    "\n",
    "sns.lineplot(\n",
    "    x=x,\n",
    "    y=accuracy,\n",
    "    label='Accuracy'\n",
    ")\n",
    "sns.lineplot(\n",
    "    x=x,\n",
    "    y=entropy,\n",
    "    label='Entropy',\n",
    "    ls='--'\n",
    ")\n",
    "sns.lineplot(\n",
    "    x=x,\n",
    "    y=gini * 2,\n",
    "    label='Gini (*2)',\n",
    "    ls='-.'\n",
    ")\n",
    "plt.xlabel('$p$')\n",
    "plt.ylabel('Impurity')\n",
    "plt.show()"
   ]
  },
  {
   "cell_type": "markdown",
   "metadata": {},
   "source": [
    "Above plot shows that Gini impurity (rescaled) and entropy measures are similar, with entropy giving higher impurity scores for moderate and high accuracy rates.\n",
    "\n",
    "Gini impurity and Entropy for more than 2 classes:\n",
    "$$\n",
    "Gini(E)=1-\\sum_{j=1}^{c} p_j^2\\\\\n",
    "E(S)=\\sum_{j=1}^{c} -p_j \\log_2 p_j\n",
    "$$"
   ]
  },
  {
   "cell_type": "markdown",
   "metadata": {},
   "source": [
    "## 6.3 Bagging and the Random Forest\n",
    "\n",
    "#### <center>Key Terms for Bagging and the Random Forest</center>\n",
    "- ***Ensemble***  \n",
    "Forming a prediction by using a collection of models.<br>  \n",
    "*Synonym*\n",
    "    - Model averaging\n",
    "- ***Bagging***  \n",
    "A general technique to form a collection of models by bootstrapping the data.<br>  \n",
    "*Synonym*\n",
    "    - Bootstrap aggregation\n",
    "- ***Random forest***  \n",
    "A type of bagged estimate based on decision tree models.<br>  \n",
    "*Synonym*\n",
    "    - Bagged decision trees\n",
    "- ***Variable importance***  \n",
    "A measure of the importance of a predictor variable in the performance of the model."
   ]
  },
  {
   "cell_type": "markdown",
   "metadata": {},
   "source": [
    "Random Forest build multiple decision tress in parallel (bagging), each using a subset records (bootstrap) and variables. These trees are ensembled to a forest to make final predictions (average of all trees) together."
   ]
  },
  {
   "cell_type": "markdown",
   "metadata": {},
   "source": [
    "## 6.3 Boosting\n",
    "\n",
    "#### <center>Key Terms for Boosting</center>\n",
    "- ***Ensemble***  \n",
    "Forming a prediction by using a collection of models.<br>  \n",
    "*Synonym*\n",
    "    - Model averaging\n",
    "- ***Boosting***  \n",
    "A general technique to fit a sequence of models by giving more weight to the records with large residuals for each successive round.\n",
    "- ***Adaboost***  \n",
    "An early version of boosting that reweights the data based on the residuals.\n",
    "- ***Gradient boosting***  \n",
    "A more general form of boosting that is cast in terms of minimizing a cost function.\n",
    "- ***Stochastic gradient boosting***  \n",
    "The most general algorithm for boosting that incorporates resampling of records and columns in each round.\n",
    "- ***Regularization***  \n",
    "A technique to avoid overfitting by adding a penalty term to the cost function on the number of parameters in the model.\n",
    "- ***Hyperparameters***  \n",
    "Parameters that need to be set before fitting the algorithm."
   ]
  }
 ],
 "metadata": {
  "kernelspec": {
   "display_name": "ZZ_ML",
   "language": "python",
   "name": "python3"
  },
  "language_info": {
   "codemirror_mode": {
    "name": "ipython",
    "version": 3
   },
   "file_extension": ".py",
   "mimetype": "text/x-python",
   "name": "python",
   "nbconvert_exporter": "python",
   "pygments_lexer": "ipython3",
   "version": "3.10.13"
  }
 },
 "nbformat": 4,
 "nbformat_minor": 2
}
